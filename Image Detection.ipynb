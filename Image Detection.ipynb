{
 "cells": [
  {
   "cell_type": "markdown",
   "metadata": {},
   "source": [
    "## Image Detection using CNN\n",
    "Dataset: https://www.cs.toronto.edu/~kriz/cifar.html <br>\n",
    "About Dataset: The CIFAR-10 dataset consists of 60000 32x32 colour images in 10 classes, with 6000 images per class. There are 50000 training images and 10000 test images. "
   ]
  },
  {
   "cell_type": "markdown",
   "metadata": {},
   "source": [
    "#### Using ANN Approach"
   ]
  },
  {
   "cell_type": "code",
   "execution_count": 3,
   "metadata": {},
   "outputs": [],
   "source": [
    "import tensorflow as tf\n",
    "from tensorflow.keras import datasets, layers, models\n",
    "import matplotlib.pyplot as plt\n",
    "import numpy as np"
   ]
  },
  {
   "cell_type": "code",
   "execution_count": 4,
   "metadata": {},
   "outputs": [
    {
     "name": "stdout",
     "output_type": "stream",
     "text": [
      "Downloading data from https://www.cs.toronto.edu/~kriz/cifar-10-python.tar.gz\n",
      "170498071/170498071 [==============================] - 45s 0us/step\n"
     ]
    },
    {
     "data": {
      "text/plain": [
       "(50000, 32, 32, 3)"
      ]
     },
     "execution_count": 4,
     "metadata": {},
     "output_type": "execute_result"
    }
   ],
   "source": [
    "(X_train, y_train), (X_test, y_test) = datasets.cifar10.load_data()\n",
    "X_train.shape"
   ]
  },
  {
   "cell_type": "code",
   "execution_count": 5,
   "metadata": {},
   "outputs": [
    {
     "data": {
      "text/plain": [
       "(10000, 32, 32, 3)"
      ]
     },
     "execution_count": 5,
     "metadata": {},
     "output_type": "execute_result"
    }
   ],
   "source": [
    "X_test.shape"
   ]
  },
  {
   "cell_type": "code",
   "execution_count": 6,
   "metadata": {},
   "outputs": [
    {
     "data": {
      "text/plain": [
       "<matplotlib.image.AxesImage at 0x29263fc40>"
      ]
     },
     "execution_count": 6,
     "metadata": {},
     "output_type": "execute_result"
    },
    {
     "data": {
      "image/png": "[encoded data removed]",
      "text/plain": [
       "<Figure size 640x480 with 1 Axes>"
      ]
     },
     "metadata": {},
     "output_type": "display_data"
    }
   ],
   "source": [
    "plt.imshow(X_train[6])"
   ]
  },
  {
   "cell_type": "code",
   "execution_count": 7,
   "metadata": {},
   "outputs": [],
   "source": [
    "y_train = y_train.reshape(-1, )"
   ]
  },
  {
   "cell_type": "code",
   "execution_count": 8,
   "metadata": {},
   "outputs": [],
   "source": [
    "X_train = X_train / 255.0\n",
    "X_test = X_test / 255.0"
   ]
  },
  {
   "cell_type": "code",
   "execution_count": 9,
   "metadata": {},
   "outputs": [],
   "source": [
    "ann = models.Sequential([\n",
    "    layers.Flatten(input_shape=(32, 32, 3)),\n",
    "    layers.Dense(3000, activation='relu'),\n",
    "    layers.Dense(1000, activation='relu'),\n",
    "    layers.Dense(10, activation='sigmoid')\n",
    "])"
   ]
  },
  {
   "cell_type": "code",
   "execution_count": 10,
   "metadata": {},
   "outputs": [],
   "source": [
    "ann.compile(optimizer='SGD',\n",
    "                loss='sparse_categorical_crossentropy',\n",
    "                metrics=['accuracy'])"
   ]
  },
  {
   "cell_type": "code",
   "execution_count": 11,
   "metadata": {},
   "outputs": [
    {
     "name": "stdout",
     "output_type": "stream",
     "text": [
      "Epoch 1/15\n"
     ]
    },
    {
     "name": "stderr",
     "output_type": "stream",
     "text": [
      "2023-04-07 12:04:39.192846: W tensorflow/core/platform/profile_utils/cpu_utils.cc:128] Failed to get CPU frequency: 0 Hz\n"
     ]
    },
    {
     "name": "stdout",
     "output_type": "stream",
     "text": [
      "1563/1563 [==============================] - 24s 15ms/step - loss: 1.8135 - accuracy: 0.3532\n",
      "Epoch 2/15\n",
      "1563/1563 [==============================] - 24s 15ms/step - loss: 1.6231 - accuracy: 0.4266\n",
      "Epoch 3/15\n",
      "1563/1563 [==============================] - 23s 15ms/step - loss: 1.5407 - accuracy: 0.4553\n",
      "Epoch 4/15\n",
      "1563/1563 [==============================] - 23s 15ms/step - loss: 1.4799 - accuracy: 0.4763\n",
      "Epoch 5/15\n",
      "1563/1563 [==============================] - 23s 15ms/step - loss: 1.4325 - accuracy: 0.4954\n",
      "Epoch 6/15\n",
      "1563/1563 [==============================] - 23s 15ms/step - loss: 1.3893 - accuracy: 0.5139\n",
      "Epoch 7/15\n",
      "1563/1563 [==============================] - 23s 15ms/step - loss: 1.3491 - accuracy: 0.5252\n",
      "Epoch 8/15\n",
      "1563/1563 [==============================] - 24s 15ms/step - loss: 1.3166 - accuracy: 0.5366\n",
      "Epoch 9/15\n",
      "1563/1563 [==============================] - 24s 15ms/step - loss: 1.2835 - accuracy: 0.5480\n",
      "Epoch 10/15\n",
      "1563/1563 [==============================] - 24s 15ms/step - loss: 1.2534 - accuracy: 0.5590\n",
      "Epoch 11/15\n",
      "1563/1563 [==============================] - 24s 15ms/step - loss: 1.2235 - accuracy: 0.5713\n",
      "Epoch 12/15\n",
      "1563/1563 [==============================] - 194s 124ms/step - loss: 1.1946 - accuracy: 0.5825\n",
      "Epoch 13/15\n",
      "1563/1563 [==============================] - 26s 17ms/step - loss: 1.1678 - accuracy: 0.5910\n",
      "Epoch 14/15\n",
      "1563/1563 [==============================] - 25s 16ms/step - loss: 1.1390 - accuracy: 0.6036\n",
      "Epoch 15/15\n",
      "1563/1563 [==============================] - 24s 16ms/step - loss: 1.1129 - accuracy: 0.6117\n"
     ]
    },
    {
     "data": {
      "text/plain": [
       "<keras.callbacks.History at 0x2863434c0>"
      ]
     },
     "execution_count": 11,
     "metadata": {},
     "output_type": "execute_result"
    }
   ],
   "source": [
    "ann.fit(X_train, y_train, epochs=15)"
   ]
  },
  {
   "cell_type": "code",
   "execution_count": 12,
   "metadata": {},
   "outputs": [
    {
     "name": "stdout",
     "output_type": "stream",
     "text": [
      "313/313 [==============================] - 2s 6ms/step - loss: 1.3218 - accuracy: 0.5262\n"
     ]
    },
    {
     "data": {
      "text/plain": [
       "[1.3218142986297607, 0.526199996471405]"
      ]
     },
     "execution_count": 12,
     "metadata": {},
     "output_type": "execute_result"
    }
   ],
   "source": [
    "ann.evaluate(X_test, y_test)"
   ]
  },
  {
   "cell_type": "code",
   "execution_count": 13,
   "metadata": {},
   "outputs": [
    {
     "name": "stdout",
     "output_type": "stream",
     "text": [
      "313/313 [==============================] - 2s 6ms/step\n",
      "Classification Report: \n",
      "              precision    recall  f1-score   support\n",
      "\n",
      "           0       0.72      0.39      0.50      1000\n",
      "           1       0.63      0.70      0.66      1000\n",
      "           2       0.35      0.60      0.44      1000\n",
      "           3       0.40      0.33      0.36      1000\n",
      "           4       0.50      0.38      0.43      1000\n",
      "           5       0.58      0.28      0.38      1000\n",
      "           6       0.56      0.62      0.59      1000\n",
      "           7       0.55      0.64      0.59      1000\n",
      "           8       0.59      0.75      0.66      1000\n",
      "           9       0.59      0.58      0.58      1000\n",
      "\n",
      "    accuracy                           0.53     10000\n",
      "   macro avg       0.54      0.53      0.52     10000\n",
      "weighted avg       0.54      0.53      0.52     10000\n",
      "\n"
     ]
    }
   ],
   "source": [
    "from  sklearn.metrics  import  confusion_matrix , classification_report\n",
    "import numpy as np\n",
    "y_pred = ann.predict(X_test)\n",
    "y_pred_classes = [np.argmax(element) for element in y_pred]\n",
    "print(\"Classification Report: \")\n",
    "print(classification_report(y_test, y_pred_classes))"
   ]
  },
  {
   "cell_type": "markdown",
   "metadata": {},
   "source": [
    "#### Using CNN Approach"
   ]
  },
  {
   "cell_type": "code",
   "execution_count": 14,
   "metadata": {},
   "outputs": [],
   "source": [
    "cnn = models.Sequential([\n",
    "    layers.Conv2D(filters=32, kernel_size=(3, 3), activation='relu', input_shape=(32, 32, 3)),\n",
    "    layers.MaxPooling2D((2, 2)),\n",
    "    layers.Conv2D(filters=32, kernel_size=(3, 3), activation='relu'),\n",
    "    layers.MaxPooling2D((2, 2)),\n",
    "    layers.Flatten(),\n",
    "    layers.Dense(64, activation='relu'),\n",
    "    layers.Dense(10, activation='softmax')\n",
    "])"
   ]
  },
  {
   "cell_type": "code",
   "execution_count": 15,
   "metadata": {},
   "outputs": [],
   "source": [
    "cnn.compile(optimizer='adam',\n",
    "                loss='sparse_categorical_crossentropy',\n",
    "                metrics=['accuracy'])"
   ]
  },
  {
   "cell_type": "code",
   "execution_count": 16,
   "metadata": {},
   "outputs": [
    {
     "name": "stdout",
     "output_type": "stream",
     "text": [
      "Epoch 1/15\n",
      "1563/1563 [==============================] - 8s 5ms/step - loss: 1.4599 - accuracy: 0.4780\n",
      "Epoch 2/15\n",
      "1563/1563 [==============================] - 8s 5ms/step - loss: 1.1398 - accuracy: 0.5997\n",
      "Epoch 3/15\n",
      "1563/1563 [==============================] - 8s 5ms/step - loss: 1.0132 - accuracy: 0.6464\n",
      "Epoch 4/15\n",
      "1563/1563 [==============================] - 8s 5ms/step - loss: 0.9332 - accuracy: 0.6771\n",
      "Epoch 5/15\n",
      "1563/1563 [==============================] - 8s 5ms/step - loss: 0.8736 - accuracy: 0.6957\n",
      "Epoch 6/15\n",
      "1563/1563 [==============================] - 8s 5ms/step - loss: 0.8242 - accuracy: 0.7135\n",
      "Epoch 7/15\n",
      "1563/1563 [==============================] - 8s 5ms/step - loss: 0.7744 - accuracy: 0.7303\n",
      "Epoch 8/15\n",
      "1563/1563 [==============================] - 8s 5ms/step - loss: 0.7335 - accuracy: 0.7481\n",
      "Epoch 9/15\n",
      "1563/1563 [==============================] - 8s 5ms/step - loss: 0.6945 - accuracy: 0.7594\n",
      "Epoch 10/15\n",
      "1563/1563 [==============================] - 8s 5ms/step - loss: 0.6615 - accuracy: 0.7711\n",
      "Epoch 11/15\n",
      "1563/1563 [==============================] - 8s 5ms/step - loss: 0.6288 - accuracy: 0.7824\n",
      "Epoch 12/15\n",
      "1563/1563 [==============================] - 8s 5ms/step - loss: 0.5934 - accuracy: 0.7956\n",
      "Epoch 13/15\n",
      "1563/1563 [==============================] - 8s 5ms/step - loss: 0.5660 - accuracy: 0.8038\n",
      "Epoch 14/15\n",
      "1563/1563 [==============================] - 8s 5ms/step - loss: 0.5379 - accuracy: 0.8127\n",
      "Epoch 15/15\n",
      "1563/1563 [==============================] - 8s 5ms/step - loss: 0.5127 - accuracy: 0.8221\n"
     ]
    },
    {
     "data": {
      "text/plain": [
       "<keras.callbacks.History at 0x28f9d5a50>"
      ]
     },
     "execution_count": 16,
     "metadata": {},
     "output_type": "execute_result"
    }
   ],
   "source": [
    "cnn.fit(X_train, y_train, epochs=15)"
   ]
  },
  {
   "cell_type": "code",
   "execution_count": 17,
   "metadata": {},
   "outputs": [
    {
     "name": "stdout",
     "output_type": "stream",
     "text": [
      "313/313 [==============================] - 1s 2ms/step - loss: 1.0567 - accuracy: 0.6752\n"
     ]
    },
    {
     "data": {
      "text/plain": [
       "[1.056699514389038, 0.6751999855041504]"
      ]
     },
     "execution_count": 17,
     "metadata": {},
     "output_type": "execute_result"
    }
   ],
   "source": [
    "cnn.evaluate(X_test, y_test)"
   ]
  },
  {
   "cell_type": "code",
   "execution_count": 18,
   "metadata": {},
   "outputs": [
    {
     "name": "stdout",
     "output_type": "stream",
     "text": [
      "313/313 [==============================] - 1s 2ms/step\n",
      "Classification Report: \n",
      "              precision    recall  f1-score   support\n",
      "\n",
      "           0       0.67      0.76      0.71      1000\n",
      "           1       0.84      0.74      0.79      1000\n",
      "           2       0.58      0.58      0.58      1000\n",
      "           3       0.47      0.52      0.49      1000\n",
      "           4       0.61      0.64      0.62      1000\n",
      "           5       0.61      0.48      0.54      1000\n",
      "           6       0.76      0.76      0.76      1000\n",
      "           7       0.71      0.73      0.72      1000\n",
      "           8       0.84      0.71      0.77      1000\n",
      "           9       0.69      0.83      0.75      1000\n",
      "\n",
      "    accuracy                           0.68     10000\n",
      "   macro avg       0.68      0.68      0.67     10000\n",
      "weighted avg       0.68      0.68      0.67     10000\n",
      "\n"
     ]
    }
   ],
   "source": [
    "y_pred = cnn.predict(X_test)\n",
    "y_pred_classes = [np.argmax(element) for element in y_pred]\n",
    "print(\"Classification Report: \")\n",
    "print(classification_report(y_test, y_pred_classes))"
   ]
  }
 ],
 "metadata": {
  "kernelspec": {
   "display_name": "Python 3.10.6 ('work')",
   "language": "python",
   "name": "python3"
  },
  "language_info": {
   "codemirror_mode": {
    "name": "ipython",
    "version": 3
   },
   "file_extension": ".py",
   "mimetype": "text/x-python",
   "name": "python",
   "nbconvert_exporter": "python",
   "pygments_lexer": "ipython3",
   "version": "3.10.6"
  },
  "orig_nbformat": 4,
  "vscode": {
   "interpreter": {
    "hash": "f6becb90ea85e501e0c5dc0cf472a45ace99c50f8d1426b3da8c341d18623653"
   }
  }
 },
 "nbformat": 4,
 "nbformat_minor": 2
}
